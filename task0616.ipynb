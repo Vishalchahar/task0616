{
 "cells": [
  {
   "cell_type": "code",
   "execution_count": 124,
   "metadata": {},
   "outputs": [],
   "source": [
    "import pandas as pd\n",
    "import numpy as np\n",
    "import matplotlib.pyplot as plt\n",
    "import seaborn as sns\n",
    "from collections import Counter"
   ]
  },
  {
   "cell_type": "code",
   "execution_count": 207,
   "metadata": {},
   "outputs": [
    {
     "name": "stderr",
     "output_type": "stream",
     "text": [
      "/var/folders/95/070fvw3n5qqbp1lk0l2vg9lw0000gn/T/ipykernel_88956/617695822.py:1: DtypeWarning: Columns (2) have mixed types. Specify dtype option on import or set low_memory=False.\n",
      "  df1 =pd.read_csv('BillNo_IEC_Buyer_HSN_Wise_Exp_Feb_22_Report_01.csv')\n",
      "/var/folders/95/070fvw3n5qqbp1lk0l2vg9lw0000gn/T/ipykernel_88956/617695822.py:2: DtypeWarning: Columns (2) have mixed types. Specify dtype option on import or set low_memory=False.\n",
      "  df2 =pd.read_csv('BillNo_IEC_Buyer_HSN_Wise_Exp_Feb_22_Report_02.csv')\n",
      "/var/folders/95/070fvw3n5qqbp1lk0l2vg9lw0000gn/T/ipykernel_88956/617695822.py:3: DtypeWarning: Columns (2) have mixed types. Specify dtype option on import or set low_memory=False.\n",
      "  df3 =pd.read_csv('BillNo_IEC_Buyer_HSN_Wise_Exp_Feb_22_Report_03.csv')\n"
     ]
    }
   ],
   "source": [
    "df1 =pd.read_csv('BillNo_IEC_Buyer_HSN_Wise_Exp_Feb_22_Report_01.csv')\n",
    "df2 =pd.read_csv('BillNo_IEC_Buyer_HSN_Wise_Exp_Feb_22_Report_02.csv')\n",
    "df3 =pd.read_csv('BillNo_IEC_Buyer_HSN_Wise_Exp_Feb_22_Report_03.csv')\n",
    "df = pd.concat([df1,df2,df3])"
   ]
  },
  {
   "cell_type": "markdown",
   "metadata": {},
   "source": [
    "# Cleaning "
   ]
  },
  {
   "cell_type": "code",
   "execution_count": 206,
   "metadata": {},
   "outputs": [
    {
     "name": "stdout",
     "output_type": "stream",
     "text": [
      "<class 'pandas.core.frame.DataFrame'>\n",
      "Int64Index: 1190599 entries, 0 to 375124\n",
      "Data columns (total 19 columns):\n",
      " #   Column           Non-Null Count    Dtype  \n",
      "---  ------           --------------    -----  \n",
      " 0   BILL_NO          1190599 non-null  int64  \n",
      " 1   EXP_DATE         1190599 non-null  object \n",
      " 2   IEC              1190599 non-null  object \n",
      " 3   EXPORTER_NAME    1190537 non-null  object \n",
      " 4   ADDRESS          1187258 non-null  object \n",
      " 5   CITY             1187222 non-null  object \n",
      " 6   PIN              1169487 non-null  float64\n",
      " 7   PHONE_No         1069572 non-null  object \n",
      " 8   EMAIL            1038621 non-null  object \n",
      " 9   CONTACT_PERSON   1098417 non-null  object \n",
      " 10  INDIAN_PORT      1190599 non-null  object \n",
      " 11  COUNTRY          1190598 non-null  object \n",
      " 12  FOREIGN_PORT     1190599 non-null  object \n",
      " 13  BUYER_NAME       1175281 non-null  object \n",
      " 14  HS_CODE          1190599 non-null  int64  \n",
      " 15  UNIT             1190599 non-null  object \n",
      " 16  SUM_OF_QUANTITY  1190599 non-null  float64\n",
      " 17  SUM_OF_FOB_INR   1190599 non-null  int64  \n",
      " 18  PAN_NO           1187258 non-null  object \n",
      "dtypes: float64(2), int64(3), object(14)\n",
      "memory usage: 181.7+ MB\n"
     ]
    }
   ],
   "source": [
    "df.info()"
   ]
  },
  {
   "cell_type": "markdown",
   "metadata": {},
   "source": [
    "NAN => EXPORTER_NAME, ADDRESS, CITY, PIN, PHONE_NO, EMAIL, CONTACT_PERSON, COUNTRY, BUYER_NAME, PAN_NO"
   ]
  },
  {
   "cell_type": "code",
   "execution_count": 238,
   "metadata": {},
   "outputs": [
    {
     "name": "stdout",
     "output_type": "stream",
     "text": [
      "<class 'pandas.core.frame.DataFrame'>\n",
      "RangeIndex: 75087 entries, 0 to 75086\n",
      "Data columns (total 3 columns):\n",
      " #   Column         Non-Null Count  Dtype \n",
      "---  ------         --------------  ----- \n",
      " 0   index          75087 non-null  int64 \n",
      " 1   IEC            75087 non-null  object\n",
      " 2   EXPORTER_NAME  75078 non-null  object\n",
      "dtypes: int64(1), object(2)\n",
      "memory usage: 1.7+ MB\n"
     ]
    }
   ],
   "source": [
    "df1=df[df.isna().any(axis=1)]\n",
    "IEC_EXPO =pd.DataFrame(df,columns=['IEC','EXPORTER_NAME'])\n",
    "new = IEC_EXPO.drop_duplicates(subset=['IEC', 'EXPORTER_NAME'],keep='first').reset_index()\n",
    "new.info()"
   ]
  },
  {
   "cell_type": "code",
   "execution_count": 269,
   "metadata": {},
   "outputs": [
    {
     "name": "stdout",
     "output_type": "stream",
     "text": [
      "190045    592015220\n",
      "Name: IEC, dtype: object\n",
      "190046    592015220\n",
      "Name: IEC, dtype: object\n",
      "190047    592015220\n",
      "Name: IEC, dtype: object\n",
      "190048    592015220\n",
      "Name: IEC, dtype: object\n",
      "190049    592015220\n",
      "Name: IEC, dtype: object\n",
      "190050    592015220\n",
      "Name: IEC, dtype: object\n",
      "190051    592015220\n",
      "Name: IEC, dtype: object\n",
      "190052    592015220\n",
      "Name: IEC, dtype: object\n",
      "190053    592015220\n",
      "Name: IEC, dtype: object\n",
      "190054    592015220\n",
      "Name: IEC, dtype: object\n",
      "190055    592015220\n",
      "Name: IEC, dtype: object\n",
      "207732    610003194\n",
      "Name: IEC, dtype: object\n",
      "207733    610003194\n",
      "Name: IEC, dtype: object\n",
      "358201    5210012620\n",
      "Name: IEC, dtype: object\n",
      "395938    ABSFA7085Q\n",
      "Name: IEC, dtype: object\n",
      "395939    ABSFA7085Q\n",
      "Name: IEC, dtype: object\n",
      "407259    AMJPK5913D\n",
      "Name: IEC, dtype: object\n",
      "49018    316934313\n",
      "Name: IEC, dtype: object\n",
      "168899    589001981\n",
      "Name: IEC, dtype: object\n",
      "168900    589001981\n",
      "Name: IEC, dtype: object\n",
      "172686    592015220\n",
      "Name: IEC, dtype: object\n",
      "172687    592015220\n",
      "Name: IEC, dtype: object\n"
     ]
    },
    {
     "ename": "KeyboardInterrupt",
     "evalue": "",
     "output_type": "error",
     "traceback": [
      "\u001b[0;31m---------------------------------------------------------------------------\u001b[0m",
      "\u001b[0;31mKeyboardInterrupt\u001b[0m                         Traceback (most recent call last)",
      "\u001b[1;32m/Users/vishalchahar/Cogoport/cogo-ml/task0616/task0616.ipynb Cell 7'\u001b[0m in \u001b[0;36m<cell line: 1>\u001b[0;34m()\u001b[0m\n\u001b[1;32m      <a href='vscode-notebook-cell:/Users/vishalchahar/Cogoport/cogo-ml/task0616/task0616.ipynb#ch0000025?line=2'>3</a>\u001b[0m \u001b[39mprint\u001b[39m(df\u001b[39m.\u001b[39miloc[[i]][\u001b[39m'\u001b[39m\u001b[39mIEC\u001b[39m\u001b[39m'\u001b[39m])\n\u001b[1;32m      <a href='vscode-notebook-cell:/Users/vishalchahar/Cogoport/cogo-ml/task0616/task0616.ipynb#ch0000025?line=3'>4</a>\u001b[0m \u001b[39mfor\u001b[39;00m j \u001b[39min\u001b[39;00m \u001b[39mrange\u001b[39m(\u001b[39m0\u001b[39m,\u001b[39m75087\u001b[39m):\n\u001b[0;32m----> <a href='vscode-notebook-cell:/Users/vishalchahar/Cogoport/cogo-ml/task0616/task0616.ipynb#ch0000025?line=4'>5</a>\u001b[0m     \u001b[39mif\u001b[39;00m \u001b[39mstr\u001b[39;49m(df\u001b[39m.\u001b[39;49miloc[[i]][\u001b[39m'\u001b[39;49m\u001b[39mIEC\u001b[39;49m\u001b[39m'\u001b[39;49m]) \u001b[39m==\u001b[39m \u001b[39mstr\u001b[39m(df\u001b[39m.\u001b[39miloc[[j]][\u001b[39m'\u001b[39m\u001b[39mIEC\u001b[39m\u001b[39m'\u001b[39m]) \u001b[39mand\u001b[39;00m i\u001b[39m!=\u001b[39mj:\n\u001b[1;32m      <a href='vscode-notebook-cell:/Users/vishalchahar/Cogoport/cogo-ml/task0616/task0616.ipynb#ch0000025?line=5'>6</a>\u001b[0m         df\u001b[39m.\u001b[39miloc[[i]][\u001b[39m'\u001b[39m\u001b[39mEXPORTER_NAME\u001b[39m\u001b[39m'\u001b[39m] \u001b[39m=\u001b[39m df\u001b[39m.\u001b[39miloc[[j]][\u001b[39m'\u001b[39m\u001b[39mEXPORTER_NAME\u001b[39m\u001b[39m'\u001b[39m]\n\u001b[1;32m      <a href='vscode-notebook-cell:/Users/vishalchahar/Cogoport/cogo-ml/task0616/task0616.ipynb#ch0000025?line=6'>7</a>\u001b[0m         \u001b[39mprint\u001b[39m(df\u001b[39m.\u001b[39miloc[[j]][\u001b[39m'\u001b[39m\u001b[39mEXPORTER_NAME\u001b[39m\u001b[39m'\u001b[39m])\n",
      "File \u001b[0;32m~/miniforge3/lib/python3.9/site-packages/pandas/core/series.py:1504\u001b[0m, in \u001b[0;36mSeries.__repr__\u001b[0;34m(self)\u001b[0m\n\u001b[1;32m   <a href='file:///Users/vishalchahar/miniforge3/lib/python3.9/site-packages/pandas/core/series.py?line=1499'>1500</a>\u001b[0m \u001b[39m\"\"\"\u001b[39;00m\n\u001b[1;32m   <a href='file:///Users/vishalchahar/miniforge3/lib/python3.9/site-packages/pandas/core/series.py?line=1500'>1501</a>\u001b[0m \u001b[39mReturn a string representation for a particular Series.\u001b[39;00m\n\u001b[1;32m   <a href='file:///Users/vishalchahar/miniforge3/lib/python3.9/site-packages/pandas/core/series.py?line=1501'>1502</a>\u001b[0m \u001b[39m\"\"\"\u001b[39;00m\n\u001b[1;32m   <a href='file:///Users/vishalchahar/miniforge3/lib/python3.9/site-packages/pandas/core/series.py?line=1502'>1503</a>\u001b[0m repr_params \u001b[39m=\u001b[39m fmt\u001b[39m.\u001b[39mget_series_repr_params()\n\u001b[0;32m-> <a href='file:///Users/vishalchahar/miniforge3/lib/python3.9/site-packages/pandas/core/series.py?line=1503'>1504</a>\u001b[0m \u001b[39mreturn\u001b[39;00m \u001b[39mself\u001b[39;49m\u001b[39m.\u001b[39;49mto_string(\u001b[39m*\u001b[39;49m\u001b[39m*\u001b[39;49mrepr_params)\n",
      "File \u001b[0;32m~/miniforge3/lib/python3.9/site-packages/pandas/core/series.py:1553\u001b[0m, in \u001b[0;36mSeries.to_string\u001b[0;34m(self, buf, na_rep, float_format, header, index, length, dtype, name, max_rows, min_rows)\u001b[0m\n\u001b[1;32m   <a href='file:///Users/vishalchahar/miniforge3/lib/python3.9/site-packages/pandas/core/series.py?line=1505'>1506</a>\u001b[0m \u001b[39mdef\u001b[39;00m \u001b[39mto_string\u001b[39m(\n\u001b[1;32m   <a href='file:///Users/vishalchahar/miniforge3/lib/python3.9/site-packages/pandas/core/series.py?line=1506'>1507</a>\u001b[0m     \u001b[39mself\u001b[39m,\n\u001b[1;32m   <a href='file:///Users/vishalchahar/miniforge3/lib/python3.9/site-packages/pandas/core/series.py?line=1507'>1508</a>\u001b[0m     buf\u001b[39m=\u001b[39m\u001b[39mNone\u001b[39;00m,\n\u001b[0;32m   (...)\u001b[0m\n\u001b[1;32m   <a href='file:///Users/vishalchahar/miniforge3/lib/python3.9/site-packages/pandas/core/series.py?line=1516'>1517</a>\u001b[0m     min_rows\u001b[39m=\u001b[39m\u001b[39mNone\u001b[39;00m,\n\u001b[1;32m   <a href='file:///Users/vishalchahar/miniforge3/lib/python3.9/site-packages/pandas/core/series.py?line=1517'>1518</a>\u001b[0m ):\n\u001b[1;32m   <a href='file:///Users/vishalchahar/miniforge3/lib/python3.9/site-packages/pandas/core/series.py?line=1518'>1519</a>\u001b[0m     \u001b[39m\"\"\"\u001b[39;00m\n\u001b[1;32m   <a href='file:///Users/vishalchahar/miniforge3/lib/python3.9/site-packages/pandas/core/series.py?line=1519'>1520</a>\u001b[0m \u001b[39m    Render a string representation of the Series.\u001b[39;00m\n\u001b[1;32m   <a href='file:///Users/vishalchahar/miniforge3/lib/python3.9/site-packages/pandas/core/series.py?line=1520'>1521</a>\u001b[0m \n\u001b[0;32m   (...)\u001b[0m\n\u001b[1;32m   <a href='file:///Users/vishalchahar/miniforge3/lib/python3.9/site-packages/pandas/core/series.py?line=1550'>1551</a>\u001b[0m \u001b[39m        String representation of Series if ``buf=None``, otherwise None.\u001b[39;00m\n\u001b[1;32m   <a href='file:///Users/vishalchahar/miniforge3/lib/python3.9/site-packages/pandas/core/series.py?line=1551'>1552</a>\u001b[0m \u001b[39m    \"\"\"\u001b[39;00m\n\u001b[0;32m-> <a href='file:///Users/vishalchahar/miniforge3/lib/python3.9/site-packages/pandas/core/series.py?line=1552'>1553</a>\u001b[0m     formatter \u001b[39m=\u001b[39m fmt\u001b[39m.\u001b[39;49mSeriesFormatter(\n\u001b[1;32m   <a href='file:///Users/vishalchahar/miniforge3/lib/python3.9/site-packages/pandas/core/series.py?line=1553'>1554</a>\u001b[0m         \u001b[39mself\u001b[39;49m,\n\u001b[1;32m   <a href='file:///Users/vishalchahar/miniforge3/lib/python3.9/site-packages/pandas/core/series.py?line=1554'>1555</a>\u001b[0m         name\u001b[39m=\u001b[39;49mname,\n\u001b[1;32m   <a href='file:///Users/vishalchahar/miniforge3/lib/python3.9/site-packages/pandas/core/series.py?line=1555'>1556</a>\u001b[0m         length\u001b[39m=\u001b[39;49mlength,\n\u001b[1;32m   <a href='file:///Users/vishalchahar/miniforge3/lib/python3.9/site-packages/pandas/core/series.py?line=1556'>1557</a>\u001b[0m         header\u001b[39m=\u001b[39;49mheader,\n\u001b[1;32m   <a href='file:///Users/vishalchahar/miniforge3/lib/python3.9/site-packages/pandas/core/series.py?line=1557'>1558</a>\u001b[0m         index\u001b[39m=\u001b[39;49mindex,\n\u001b[1;32m   <a href='file:///Users/vishalchahar/miniforge3/lib/python3.9/site-packages/pandas/core/series.py?line=1558'>1559</a>\u001b[0m         dtype\u001b[39m=\u001b[39;49mdtype,\n\u001b[1;32m   <a href='file:///Users/vishalchahar/miniforge3/lib/python3.9/site-packages/pandas/core/series.py?line=1559'>1560</a>\u001b[0m         na_rep\u001b[39m=\u001b[39;49mna_rep,\n\u001b[1;32m   <a href='file:///Users/vishalchahar/miniforge3/lib/python3.9/site-packages/pandas/core/series.py?line=1560'>1561</a>\u001b[0m         float_format\u001b[39m=\u001b[39;49mfloat_format,\n\u001b[1;32m   <a href='file:///Users/vishalchahar/miniforge3/lib/python3.9/site-packages/pandas/core/series.py?line=1561'>1562</a>\u001b[0m         min_rows\u001b[39m=\u001b[39;49mmin_rows,\n\u001b[1;32m   <a href='file:///Users/vishalchahar/miniforge3/lib/python3.9/site-packages/pandas/core/series.py?line=1562'>1563</a>\u001b[0m         max_rows\u001b[39m=\u001b[39;49mmax_rows,\n\u001b[1;32m   <a href='file:///Users/vishalchahar/miniforge3/lib/python3.9/site-packages/pandas/core/series.py?line=1563'>1564</a>\u001b[0m     )\n\u001b[1;32m   <a href='file:///Users/vishalchahar/miniforge3/lib/python3.9/site-packages/pandas/core/series.py?line=1564'>1565</a>\u001b[0m     result \u001b[39m=\u001b[39m formatter\u001b[39m.\u001b[39mto_string()\n\u001b[1;32m   <a href='file:///Users/vishalchahar/miniforge3/lib/python3.9/site-packages/pandas/core/series.py?line=1566'>1567</a>\u001b[0m     \u001b[39m# catch contract violations\u001b[39;00m\n",
      "File \u001b[0;32m~/miniforge3/lib/python3.9/site-packages/pandas/io/formats/format.py:293\u001b[0m, in \u001b[0;36mSeriesFormatter.__init__\u001b[0;34m(self, series, buf, length, header, index, na_rep, name, float_format, dtype, max_rows, min_rows)\u001b[0m\n\u001b[1;32m    <a href='file:///Users/vishalchahar/miniforge3/lib/python3.9/site-packages/pandas/io/formats/format.py?line=289'>290</a>\u001b[0m \u001b[39mself\u001b[39m\u001b[39m.\u001b[39mdtype \u001b[39m=\u001b[39m dtype\n\u001b[1;32m    <a href='file:///Users/vishalchahar/miniforge3/lib/python3.9/site-packages/pandas/io/formats/format.py?line=290'>291</a>\u001b[0m \u001b[39mself\u001b[39m\u001b[39m.\u001b[39madj \u001b[39m=\u001b[39m get_adjustment()\n\u001b[0;32m--> <a href='file:///Users/vishalchahar/miniforge3/lib/python3.9/site-packages/pandas/io/formats/format.py?line=292'>293</a>\u001b[0m \u001b[39mself\u001b[39;49m\u001b[39m.\u001b[39;49m_chk_truncate()\n",
      "File \u001b[0;32m~/miniforge3/lib/python3.9/site-packages/pandas/io/formats/format.py:302\u001b[0m, in \u001b[0;36mSeriesFormatter._chk_truncate\u001b[0;34m(self)\u001b[0m\n\u001b[1;32m    <a href='file:///Users/vishalchahar/miniforge3/lib/python3.9/site-packages/pandas/io/formats/format.py?line=298'>299</a>\u001b[0m max_rows \u001b[39m=\u001b[39m \u001b[39mself\u001b[39m\u001b[39m.\u001b[39mmax_rows\n\u001b[1;32m    <a href='file:///Users/vishalchahar/miniforge3/lib/python3.9/site-packages/pandas/io/formats/format.py?line=299'>300</a>\u001b[0m \u001b[39m# truncation determined by max_rows, actual truncated number of rows\u001b[39;00m\n\u001b[1;32m    <a href='file:///Users/vishalchahar/miniforge3/lib/python3.9/site-packages/pandas/io/formats/format.py?line=300'>301</a>\u001b[0m \u001b[39m# used below by min_rows\u001b[39;00m\n\u001b[0;32m--> <a href='file:///Users/vishalchahar/miniforge3/lib/python3.9/site-packages/pandas/io/formats/format.py?line=301'>302</a>\u001b[0m is_truncated_vertically \u001b[39m=\u001b[39m max_rows \u001b[39mand\u001b[39;00m (\u001b[39mlen\u001b[39;49m(\u001b[39mself\u001b[39;49m\u001b[39m.\u001b[39;49mseries) \u001b[39m>\u001b[39m max_rows)\n\u001b[1;32m    <a href='file:///Users/vishalchahar/miniforge3/lib/python3.9/site-packages/pandas/io/formats/format.py?line=302'>303</a>\u001b[0m series \u001b[39m=\u001b[39m \u001b[39mself\u001b[39m\u001b[39m.\u001b[39mseries\n\u001b[1;32m    <a href='file:///Users/vishalchahar/miniforge3/lib/python3.9/site-packages/pandas/io/formats/format.py?line=303'>304</a>\u001b[0m \u001b[39mif\u001b[39;00m is_truncated_vertically:\n",
      "File \u001b[0;32m~/miniforge3/lib/python3.9/site-packages/pandas/core/series.py:747\u001b[0m, in \u001b[0;36mSeries.__len__\u001b[0;34m(self)\u001b[0m\n\u001b[1;32m    <a href='file:///Users/vishalchahar/miniforge3/lib/python3.9/site-packages/pandas/core/series.py?line=742'>743</a>\u001b[0m \u001b[39mdef\u001b[39;00m \u001b[39m__len__\u001b[39m(\u001b[39mself\u001b[39m) \u001b[39m-\u001b[39m\u001b[39m>\u001b[39m \u001b[39mint\u001b[39m:\n\u001b[1;32m    <a href='file:///Users/vishalchahar/miniforge3/lib/python3.9/site-packages/pandas/core/series.py?line=743'>744</a>\u001b[0m     \u001b[39m\"\"\"\u001b[39;00m\n\u001b[1;32m    <a href='file:///Users/vishalchahar/miniforge3/lib/python3.9/site-packages/pandas/core/series.py?line=744'>745</a>\u001b[0m \u001b[39m    Return the length of the Series.\u001b[39;00m\n\u001b[1;32m    <a href='file:///Users/vishalchahar/miniforge3/lib/python3.9/site-packages/pandas/core/series.py?line=745'>746</a>\u001b[0m \u001b[39m    \"\"\"\u001b[39;00m\n\u001b[0;32m--> <a href='file:///Users/vishalchahar/miniforge3/lib/python3.9/site-packages/pandas/core/series.py?line=746'>747</a>\u001b[0m     \u001b[39mreturn\u001b[39;00m \u001b[39mlen\u001b[39;49m(\u001b[39mself\u001b[39;49m\u001b[39m.\u001b[39;49m_mgr)\n",
      "File \u001b[0;32m~/miniforge3/lib/python3.9/site-packages/pandas/core/internals/base.py:47\u001b[0m, in \u001b[0;36mDataManager.__len__\u001b[0;34m(self)\u001b[0m\n\u001b[1;32m     <a href='file:///Users/vishalchahar/miniforge3/lib/python3.9/site-packages/pandas/core/internals/base.py?line=44'>45</a>\u001b[0m \u001b[39m@final\u001b[39m\n\u001b[1;32m     <a href='file:///Users/vishalchahar/miniforge3/lib/python3.9/site-packages/pandas/core/internals/base.py?line=45'>46</a>\u001b[0m \u001b[39mdef\u001b[39;00m \u001b[39m__len__\u001b[39m(\u001b[39mself\u001b[39m) \u001b[39m-\u001b[39m\u001b[39m>\u001b[39m \u001b[39mint\u001b[39m:\n\u001b[0;32m---> <a href='file:///Users/vishalchahar/miniforge3/lib/python3.9/site-packages/pandas/core/internals/base.py?line=46'>47</a>\u001b[0m     \u001b[39mreturn\u001b[39;00m \u001b[39mlen\u001b[39m(\u001b[39mself\u001b[39;49m\u001b[39m.\u001b[39;49mitems)\n",
      "File \u001b[0;32m~/miniforge3/lib/python3.9/site-packages/pandas/core/internals/managers.py:222\u001b[0m, in \u001b[0;36mBaseBlockManager.items\u001b[0;34m(self)\u001b[0m\n\u001b[1;32m    <a href='file:///Users/vishalchahar/miniforge3/lib/python3.9/site-packages/pandas/core/internals/managers.py?line=216'>217</a>\u001b[0m \u001b[39m@property\u001b[39m\n\u001b[1;32m    <a href='file:///Users/vishalchahar/miniforge3/lib/python3.9/site-packages/pandas/core/internals/managers.py?line=217'>218</a>\u001b[0m \u001b[39mdef\u001b[39;00m \u001b[39mis_single_block\u001b[39m(\u001b[39mself\u001b[39m) \u001b[39m-\u001b[39m\u001b[39m>\u001b[39m \u001b[39mbool\u001b[39m:\n\u001b[1;32m    <a href='file:///Users/vishalchahar/miniforge3/lib/python3.9/site-packages/pandas/core/internals/managers.py?line=218'>219</a>\u001b[0m     \u001b[39m# Assumes we are 2D; overridden by SingleBlockManager\u001b[39;00m\n\u001b[1;32m    <a href='file:///Users/vishalchahar/miniforge3/lib/python3.9/site-packages/pandas/core/internals/managers.py?line=219'>220</a>\u001b[0m     \u001b[39mreturn\u001b[39;00m \u001b[39mlen\u001b[39m(\u001b[39mself\u001b[39m\u001b[39m.\u001b[39mblocks) \u001b[39m==\u001b[39m \u001b[39m1\u001b[39m\n\u001b[0;32m--> <a href='file:///Users/vishalchahar/miniforge3/lib/python3.9/site-packages/pandas/core/internals/managers.py?line=221'>222</a>\u001b[0m \u001b[39m@property\u001b[39m\n\u001b[1;32m    <a href='file:///Users/vishalchahar/miniforge3/lib/python3.9/site-packages/pandas/core/internals/managers.py?line=222'>223</a>\u001b[0m \u001b[39mdef\u001b[39;00m \u001b[39mitems\u001b[39m(\u001b[39mself\u001b[39m) \u001b[39m-\u001b[39m\u001b[39m>\u001b[39m Index:\n\u001b[1;32m    <a href='file:///Users/vishalchahar/miniforge3/lib/python3.9/site-packages/pandas/core/internals/managers.py?line=223'>224</a>\u001b[0m     \u001b[39mreturn\u001b[39;00m \u001b[39mself\u001b[39m\u001b[39m.\u001b[39maxes[\u001b[39m0\u001b[39m]\n\u001b[1;32m    <a href='file:///Users/vishalchahar/miniforge3/lib/python3.9/site-packages/pandas/core/internals/managers.py?line=225'>226</a>\u001b[0m \u001b[39mdef\u001b[39;00m \u001b[39mget_dtypes\u001b[39m(\u001b[39mself\u001b[39m):\n",
      "\u001b[0;31mKeyboardInterrupt\u001b[0m: "
     ]
    }
   ],
   "source": [
    "for i in range(0,1190599):\n",
    "    if df.iloc[[i]]['EXPORTER_NAME'].isnull().any():\n",
    "        print(df.iloc[[i]]['IEC'])\n",
    "        for j in range(0,75087):\n",
    "            if str(df.iloc[[i]]['IEC']) == str(df.iloc[[j]]['IEC']) and i!=j:\n",
    "                df.iloc[[i]]['EXPORTER_NAME'] = df.iloc[[j]]['EXPORTER_NAME']\n",
    "                print(df.iloc[[j]]['EXPORTER_NAME'])\n",
    "\n",
    "    \n"
   ]
  },
  {
   "cell_type": "code",
   "execution_count": null,
   "metadata": {},
   "outputs": [
    {
     "data": {
      "text/plain": [
       "array(['200000829', 'SALTS AND CHEMICALS PRIVATE LIMITED'], dtype='<U35')"
      ]
     },
     "execution_count": 235,
     "metadata": {},
     "output_type": "execute_result"
    }
   ],
   "source": [
    "result[4]"
   ]
  },
  {
   "cell_type": "markdown",
   "metadata": {},
   "source": [
    "# EXPORTER/ PAN count"
   ]
  },
  {
   "cell_type": "code",
   "execution_count": 112,
   "metadata": {},
   "outputs": [
    {
     "name": "stdout",
     "output_type": "stream",
     "text": [
      "70000\n",
      "68679\n"
     ]
    }
   ],
   "source": [
    "print(df['EXPORTER_NAME'].nunique())\n",
    "print(df['PAN_NO'].nunique())"
   ]
  },
  {
   "cell_type": "markdown",
   "metadata": {},
   "source": [
    "# AIR/SEA "
   ]
  },
  {
   "cell_type": "code",
   "execution_count": 280,
   "metadata": {},
   "outputs": [
    {
     "name": "stdout",
     "output_type": "stream",
     "text": [
      "Via sea are 659525\n",
      "Via air are 312051\n",
      "Not sure about 219023\n",
      "1190599\n"
     ]
    },
    {
     "data": {
      "text/html": [
       "<div>\n",
       "<style scoped>\n",
       "    .dataframe tbody tr th:only-of-type {\n",
       "        vertical-align: middle;\n",
       "    }\n",
       "\n",
       "    .dataframe tbody tr th {\n",
       "        vertical-align: top;\n",
       "    }\n",
       "\n",
       "    .dataframe thead th {\n",
       "        text-align: right;\n",
       "    }\n",
       "</style>\n",
       "<table border=\"1\" class=\"dataframe\">\n",
       "  <thead>\n",
       "    <tr style=\"text-align: right;\">\n",
       "      <th></th>\n",
       "      <th>BILL_NO</th>\n",
       "      <th>EXP_DATE</th>\n",
       "      <th>IEC</th>\n",
       "      <th>EXPORTER_NAME</th>\n",
       "      <th>ADDRESS</th>\n",
       "      <th>CITY</th>\n",
       "      <th>PIN</th>\n",
       "      <th>PHONE_No</th>\n",
       "      <th>EMAIL</th>\n",
       "      <th>CONTACT_PERSON</th>\n",
       "      <th>INDIAN_PORT</th>\n",
       "      <th>COUNTRY</th>\n",
       "      <th>FOREIGN_PORT</th>\n",
       "      <th>BUYER_NAME</th>\n",
       "      <th>HS_CODE</th>\n",
       "      <th>UNIT</th>\n",
       "      <th>SUM_OF_QUANTITY</th>\n",
       "      <th>SUM_OF_FOB_INR</th>\n",
       "      <th>PAN_NO</th>\n",
       "    </tr>\n",
       "  </thead>\n",
       "  <tbody>\n",
       "    <tr>\n",
       "      <th>19</th>\n",
       "      <td>8022200</td>\n",
       "      <td>2022-02-06</td>\n",
       "      <td>200001981</td>\n",
       "      <td>CARTER CONTAINERS COMPANY PRIVATE LIMITED</td>\n",
       "      <td>P-223, BLOCK- J, NEW ALIPORE, FLAT NO.1, CONTA...</td>\n",
       "      <td>KOLKATA, W.B</td>\n",
       "      <td>700053.0</td>\n",
       "      <td>'24008365</td>\n",
       "      <td>cartercan@vsnl.net</td>\n",
       "      <td>SUYASH PODDAR</td>\n",
       "      <td>LCS NEPALGUNJ ROAD</td>\n",
       "      <td>NEPAL</td>\n",
       "      <td>NEPAL</td>\n",
       "      <td>ASHIRBAD PAINTS PRIVATE LIMITED</td>\n",
       "      <td>73102190</td>\n",
       "      <td>PCS</td>\n",
       "      <td>210.0</td>\n",
       "      <td>50000</td>\n",
       "      <td>AABCC0576H</td>\n",
       "    </tr>\n",
       "    <tr>\n",
       "      <th>20</th>\n",
       "      <td>8022200</td>\n",
       "      <td>2022-02-06</td>\n",
       "      <td>200001981</td>\n",
       "      <td>CARTER CONTAINERS COMPANY PRIVATE LIMITED</td>\n",
       "      <td>P-223, BLOCK- J, NEW ALIPORE, FLAT NO.1, CONTA...</td>\n",
       "      <td>KOLKATA, W.B</td>\n",
       "      <td>700053.0</td>\n",
       "      <td>'24008365</td>\n",
       "      <td>cartercan@vsnl.net</td>\n",
       "      <td>SUYASH PODDAR</td>\n",
       "      <td>LCS NEPALGUNJ ROAD</td>\n",
       "      <td>NEPAL</td>\n",
       "      <td>NEPAL</td>\n",
       "      <td>ASHIRBAD PAINTS PRIVATE LIMITED</td>\n",
       "      <td>73102910</td>\n",
       "      <td>PCS</td>\n",
       "      <td>22855.0</td>\n",
       "      <td>537000</td>\n",
       "      <td>AABCC0576H</td>\n",
       "    </tr>\n",
       "    <tr>\n",
       "      <th>138</th>\n",
       "      <td>7907352</td>\n",
       "      <td>2022-02-01</td>\n",
       "      <td>200014935</td>\n",
       "      <td>K D S ENTERPRISE</td>\n",
       "      <td>ANANDA MARKET, CHAKDA ROAD, BONGAON, (N)24PGS</td>\n",
       "      <td>WEST BENGAL</td>\n",
       "      <td>743235.0</td>\n",
       "      <td>NaN</td>\n",
       "      <td>NaN</td>\n",
       "      <td>NaN</td>\n",
       "      <td>GHOJADANGA LCS</td>\n",
       "      <td>BANGLADESH</td>\n",
       "      <td>BHOMRA</td>\n",
       "      <td>USHA TRADING</td>\n",
       "      <td>8109010</td>\n",
       "      <td>KGS</td>\n",
       "      <td>1260.0</td>\n",
       "      <td>55000</td>\n",
       "      <td>AMNPS2022H</td>\n",
       "    </tr>\n",
       "    <tr>\n",
       "      <th>139</th>\n",
       "      <td>7907352</td>\n",
       "      <td>2022-02-01</td>\n",
       "      <td>200014935</td>\n",
       "      <td>K D S ENTERPRISE</td>\n",
       "      <td>ANANDA MARKET, CHAKDA ROAD, BONGAON, (N)24PGS</td>\n",
       "      <td>WEST BENGAL</td>\n",
       "      <td>743235.0</td>\n",
       "      <td>NaN</td>\n",
       "      <td>NaN</td>\n",
       "      <td>NaN</td>\n",
       "      <td>GHOJADANGA LCS</td>\n",
       "      <td>BANGLADESH</td>\n",
       "      <td>BHOMRA</td>\n",
       "      <td>USHA TRADING</td>\n",
       "      <td>8061000</td>\n",
       "      <td>KGS</td>\n",
       "      <td>15840.0</td>\n",
       "      <td>697000</td>\n",
       "      <td>AMNPS2022H</td>\n",
       "    </tr>\n",
       "    <tr>\n",
       "      <th>140</th>\n",
       "      <td>7933945</td>\n",
       "      <td>2022-02-02</td>\n",
       "      <td>200014935</td>\n",
       "      <td>K D S ENTERPRISE</td>\n",
       "      <td>ANANDA MARKET, CHAKDA ROAD, BONGAON, (N)24PGS</td>\n",
       "      <td>WEST BENGAL</td>\n",
       "      <td>743235.0</td>\n",
       "      <td>NaN</td>\n",
       "      <td>NaN</td>\n",
       "      <td>NaN</td>\n",
       "      <td>GHOJADANGA LCS</td>\n",
       "      <td>BANGLADESH</td>\n",
       "      <td>BHOMRA</td>\n",
       "      <td>USHA TRADING</td>\n",
       "      <td>8109010</td>\n",
       "      <td>KGS</td>\n",
       "      <td>1200.0</td>\n",
       "      <td>53000</td>\n",
       "      <td>AMNPS2022H</td>\n",
       "    </tr>\n",
       "    <tr>\n",
       "      <th>...</th>\n",
       "      <td>...</td>\n",
       "      <td>...</td>\n",
       "      <td>...</td>\n",
       "      <td>...</td>\n",
       "      <td>...</td>\n",
       "      <td>...</td>\n",
       "      <td>...</td>\n",
       "      <td>...</td>\n",
       "      <td>...</td>\n",
       "      <td>...</td>\n",
       "      <td>...</td>\n",
       "      <td>...</td>\n",
       "      <td>...</td>\n",
       "      <td>...</td>\n",
       "      <td>...</td>\n",
       "      <td>...</td>\n",
       "      <td>...</td>\n",
       "      <td>...</td>\n",
       "      <td>...</td>\n",
       "    </tr>\n",
       "    <tr>\n",
       "      <th>374307</th>\n",
       "      <td>8579094</td>\n",
       "      <td>2022-02-28</td>\n",
       "      <td>IWQPK0735Q</td>\n",
       "      <td>SAMRIN ENTERPRISE</td>\n",
       "      <td>VILL-AMARKATI, PO-BIRAMNAGAR PS-BASIRHAT CONTA...</td>\n",
       "      <td>BASIRHAT</td>\n",
       "      <td>743422.0</td>\n",
       "      <td>'917585938995</td>\n",
       "      <td>samrinenterprise01@gmail.com</td>\n",
       "      <td>KHADIJA KHATUN</td>\n",
       "      <td>GHOJADANGA LCS</td>\n",
       "      <td>BANGLADESH</td>\n",
       "      <td>BHOMRA</td>\n",
       "      <td>D S INTERNATIONAL</td>\n",
       "      <td>25291020</td>\n",
       "      <td>MTS</td>\n",
       "      <td>100.0</td>\n",
       "      <td>639000</td>\n",
       "      <td>IWQPK0735Q</td>\n",
       "    </tr>\n",
       "    <tr>\n",
       "      <th>374308</th>\n",
       "      <td>8559943</td>\n",
       "      <td>2022-02-28</td>\n",
       "      <td>IWQPK0735Q</td>\n",
       "      <td>SAMRIN ENTERPRISE</td>\n",
       "      <td>VILL-AMARKATI, PO-BIRAMNAGAR PS-BASIRHAT CONTA...</td>\n",
       "      <td>BASIRHAT</td>\n",
       "      <td>743422.0</td>\n",
       "      <td>'917585938995</td>\n",
       "      <td>samrinenterprise01@gmail.com</td>\n",
       "      <td>KHADIJA KHATUN</td>\n",
       "      <td>GHOJADANGA LCS</td>\n",
       "      <td>BANGLADESH</td>\n",
       "      <td>BHOMRA</td>\n",
       "      <td>HUA THAI CERAMICS INDUSTRY LIMITED</td>\n",
       "      <td>25291010</td>\n",
       "      <td>MTS</td>\n",
       "      <td>198.0</td>\n",
       "      <td>839000</td>\n",
       "      <td>IWQPK0735Q</td>\n",
       "    </tr>\n",
       "    <tr>\n",
       "      <th>374870</th>\n",
       "      <td>8434276</td>\n",
       "      <td>2022-02-23</td>\n",
       "      <td>LEGPS0115D</td>\n",
       "      <td>ARJINA ENTERPRISE</td>\n",
       "      <td>VILL. - GADAMAHALI UTTAR UMARPUR PO. - UTTAR M...</td>\n",
       "      <td>ENGLISH BAZAR</td>\n",
       "      <td>732216.0</td>\n",
       "      <td>'919933895422</td>\n",
       "      <td>arjinanterprise.malda@gmail.com</td>\n",
       "      <td>MAHI SK</td>\n",
       "      <td>MAHADIPUR LCS</td>\n",
       "      <td>BANGLADESH</td>\n",
       "      <td>SONAMOSJID</td>\n",
       "      <td>RIAD INTERNATIONAL</td>\n",
       "      <td>25171010</td>\n",
       "      <td>KGS</td>\n",
       "      <td>96000.0</td>\n",
       "      <td>79000</td>\n",
       "      <td>LEGPS0115D</td>\n",
       "    </tr>\n",
       "    <tr>\n",
       "      <th>374892</th>\n",
       "      <td>8532058</td>\n",
       "      <td>2022-02-26</td>\n",
       "      <td>LGMPS6425E</td>\n",
       "      <td>WASIM EXPORT</td>\n",
       "      <td>VILL- MAHADIPUR P.O.- UTTAR MAHADIPUR</td>\n",
       "      <td>ENGLISH BAZAR</td>\n",
       "      <td>732216.0</td>\n",
       "      <td>'919932932529</td>\n",
       "      <td>wasimexport.jiaul@gmail.com</td>\n",
       "      <td>JIAUL SEIKH</td>\n",
       "      <td>MAHADIPUR LCS</td>\n",
       "      <td>BANGLADESH</td>\n",
       "      <td>SONAMOSJID</td>\n",
       "      <td>BADSHAH STORE</td>\n",
       "      <td>25171010</td>\n",
       "      <td>MTS</td>\n",
       "      <td>100.0</td>\n",
       "      <td>82000</td>\n",
       "      <td>LGMPS6425E</td>\n",
       "    </tr>\n",
       "    <tr>\n",
       "      <th>375019</th>\n",
       "      <td>8406882</td>\n",
       "      <td>2022-02-22</td>\n",
       "      <td>MWAPS2590H</td>\n",
       "      <td>MASUD SEIKH</td>\n",
       "      <td>MAHADIPUR UTTAR MAHADIPUR</td>\n",
       "      <td>MALDA</td>\n",
       "      <td>732216.0</td>\n",
       "      <td>NaN</td>\n",
       "      <td>NaN</td>\n",
       "      <td>NaN</td>\n",
       "      <td>MAHADIPUR LCS</td>\n",
       "      <td>BANGLADESH</td>\n",
       "      <td>SONAMOSJID</td>\n",
       "      <td>MAA MONI ENTERPRISE</td>\n",
       "      <td>25171010</td>\n",
       "      <td>MTS</td>\n",
       "      <td>157.0</td>\n",
       "      <td>128000</td>\n",
       "      <td>MWAPS2590H</td>\n",
       "    </tr>\n",
       "  </tbody>\n",
       "</table>\n",
       "<p>15387 rows × 19 columns</p>\n",
       "</div>"
      ],
      "text/plain": [
       "        BILL_NO    EXP_DATE         IEC  \\\n",
       "19      8022200  2022-02-06   200001981   \n",
       "20      8022200  2022-02-06   200001981   \n",
       "138     7907352  2022-02-01   200014935   \n",
       "139     7907352  2022-02-01   200014935   \n",
       "140     7933945  2022-02-02   200014935   \n",
       "...         ...         ...         ...   \n",
       "374307  8579094  2022-02-28  IWQPK0735Q   \n",
       "374308  8559943  2022-02-28  IWQPK0735Q   \n",
       "374870  8434276  2022-02-23  LEGPS0115D   \n",
       "374892  8532058  2022-02-26  LGMPS6425E   \n",
       "375019  8406882  2022-02-22  MWAPS2590H   \n",
       "\n",
       "                                    EXPORTER_NAME  \\\n",
       "19      CARTER CONTAINERS COMPANY PRIVATE LIMITED   \n",
       "20      CARTER CONTAINERS COMPANY PRIVATE LIMITED   \n",
       "138                              K D S ENTERPRISE   \n",
       "139                              K D S ENTERPRISE   \n",
       "140                              K D S ENTERPRISE   \n",
       "...                                           ...   \n",
       "374307                          SAMRIN ENTERPRISE   \n",
       "374308                          SAMRIN ENTERPRISE   \n",
       "374870                          ARJINA ENTERPRISE   \n",
       "374892                               WASIM EXPORT   \n",
       "375019                                MASUD SEIKH   \n",
       "\n",
       "                                                  ADDRESS           CITY  \\\n",
       "19      P-223, BLOCK- J, NEW ALIPORE, FLAT NO.1, CONTA...   KOLKATA, W.B   \n",
       "20      P-223, BLOCK- J, NEW ALIPORE, FLAT NO.1, CONTA...   KOLKATA, W.B   \n",
       "138         ANANDA MARKET, CHAKDA ROAD, BONGAON, (N)24PGS    WEST BENGAL   \n",
       "139         ANANDA MARKET, CHAKDA ROAD, BONGAON, (N)24PGS    WEST BENGAL   \n",
       "140         ANANDA MARKET, CHAKDA ROAD, BONGAON, (N)24PGS    WEST BENGAL   \n",
       "...                                                   ...            ...   \n",
       "374307  VILL-AMARKATI, PO-BIRAMNAGAR PS-BASIRHAT CONTA...       BASIRHAT   \n",
       "374308  VILL-AMARKATI, PO-BIRAMNAGAR PS-BASIRHAT CONTA...       BASIRHAT   \n",
       "374870  VILL. - GADAMAHALI UTTAR UMARPUR PO. - UTTAR M...  ENGLISH BAZAR   \n",
       "374892              VILL- MAHADIPUR P.O.- UTTAR MAHADIPUR  ENGLISH BAZAR   \n",
       "375019                          MAHADIPUR UTTAR MAHADIPUR          MALDA   \n",
       "\n",
       "             PIN       PHONE_No                            EMAIL  \\\n",
       "19      700053.0      '24008365               cartercan@vsnl.net   \n",
       "20      700053.0      '24008365               cartercan@vsnl.net   \n",
       "138     743235.0            NaN                              NaN   \n",
       "139     743235.0            NaN                              NaN   \n",
       "140     743235.0            NaN                              NaN   \n",
       "...          ...            ...                              ...   \n",
       "374307  743422.0  '917585938995     samrinenterprise01@gmail.com   \n",
       "374308  743422.0  '917585938995     samrinenterprise01@gmail.com   \n",
       "374870  732216.0  '919933895422  arjinanterprise.malda@gmail.com   \n",
       "374892  732216.0  '919932932529      wasimexport.jiaul@gmail.com   \n",
       "375019  732216.0            NaN                              NaN   \n",
       "\n",
       "        CONTACT_PERSON         INDIAN_PORT     COUNTRY FOREIGN_PORT  \\\n",
       "19       SUYASH PODDAR  LCS NEPALGUNJ ROAD       NEPAL        NEPAL   \n",
       "20       SUYASH PODDAR  LCS NEPALGUNJ ROAD       NEPAL        NEPAL   \n",
       "138                NaN      GHOJADANGA LCS  BANGLADESH       BHOMRA   \n",
       "139                NaN      GHOJADANGA LCS  BANGLADESH       BHOMRA   \n",
       "140                NaN      GHOJADANGA LCS  BANGLADESH       BHOMRA   \n",
       "...                ...                 ...         ...          ...   \n",
       "374307  KHADIJA KHATUN      GHOJADANGA LCS  BANGLADESH       BHOMRA   \n",
       "374308  KHADIJA KHATUN      GHOJADANGA LCS  BANGLADESH       BHOMRA   \n",
       "374870         MAHI SK       MAHADIPUR LCS  BANGLADESH   SONAMOSJID   \n",
       "374892     JIAUL SEIKH       MAHADIPUR LCS  BANGLADESH   SONAMOSJID   \n",
       "375019             NaN       MAHADIPUR LCS  BANGLADESH   SONAMOSJID   \n",
       "\n",
       "                                BUYER_NAME   HS_CODE UNIT  SUM_OF_QUANTITY  \\\n",
       "19         ASHIRBAD PAINTS PRIVATE LIMITED  73102190  PCS            210.0   \n",
       "20         ASHIRBAD PAINTS PRIVATE LIMITED  73102910  PCS          22855.0   \n",
       "138                           USHA TRADING   8109010  KGS           1260.0   \n",
       "139                           USHA TRADING   8061000  KGS          15840.0   \n",
       "140                           USHA TRADING   8109010  KGS           1200.0   \n",
       "...                                    ...       ...  ...              ...   \n",
       "374307                   D S INTERNATIONAL  25291020  MTS            100.0   \n",
       "374308  HUA THAI CERAMICS INDUSTRY LIMITED  25291010  MTS            198.0   \n",
       "374870                  RIAD INTERNATIONAL  25171010  KGS          96000.0   \n",
       "374892                       BADSHAH STORE  25171010  MTS            100.0   \n",
       "375019                 MAA MONI ENTERPRISE  25171010  MTS            157.0   \n",
       "\n",
       "        SUM_OF_FOB_INR      PAN_NO  \n",
       "19               50000  AABCC0576H  \n",
       "20              537000  AABCC0576H  \n",
       "138              55000  AMNPS2022H  \n",
       "139             697000  AMNPS2022H  \n",
       "140              53000  AMNPS2022H  \n",
       "...                ...         ...  \n",
       "374307          639000  IWQPK0735Q  \n",
       "374308          839000  IWQPK0735Q  \n",
       "374870           79000  LEGPS0115D  \n",
       "374892           82000  LGMPS6425E  \n",
       "375019          128000  MWAPS2590H  \n",
       "\n",
       "[15387 rows x 19 columns]"
      ]
     },
     "execution_count": 280,
     "metadata": {},
     "output_type": "execute_result"
    }
   ],
   "source": [
    "sea_port=0\n",
    "air=0\n",
    "via_road=0\n",
    "\n",
    "for item in df['INDIAN_PORT'].iteritems():\n",
    "    if 'SEA' in item[1] or 'PORT' in item[1] or 'ICD' in item[1] or 'LCS' in item[1]:\n",
    "        sea_port +=1\n",
    "    elif 'AIR' in item[1]:\n",
    "        air+=1\n",
    "    else:\n",
    "        via_road+=1\n",
    "\n",
    "print('Via sea are' , sea_port)\n",
    "print('Via air are', air)\n",
    "print('Not sure about', via_road)\n",
    "print(sea_port + air + via_road)\n",
    "\n",
    "df_sea =df[df['INDIAN_PORT'].str.contains('LCS')]\n",
    "df_air =df[df['INDIAN_PORT'].str.contains('AIR')]\n",
    "df_via_road =df[df['INDIAN_PORT'].str.contains('SEA' or 'PORT' or'AIR' or 'ICD' or 'LCS')==False]\n",
    "df_sea"
   ]
  },
  {
   "cell_type": "markdown",
   "metadata": {},
   "source": []
  },
  {
   "cell_type": "markdown",
   "metadata": {},
   "source": [
    "# top destination ports &top commodities (change df to df_sea/df_air/df_via_road to get specific info)"
   ]
  },
  {
   "cell_type": "code",
   "execution_count": 270,
   "metadata": {},
   "outputs": [
    {
     "data": {
      "text/plain": [
       "<BarContainer object of 10 artists>"
      ]
     },
     "execution_count": 270,
     "metadata": {},
     "output_type": "execute_result"
    },
    {
     "data": {
      "image/png": "[encoded data removed]",
      "text/plain": [
       "<Figure size 432x288 with 1 Axes>"
      ]
     },
     "metadata": {
      "needs_background": "light"
     },
     "output_type": "display_data"
    }
   ],
   "source": [
    "# print(pd.Series(df_air['FOREIGN_PORT']).value_counts().head(20))\n",
    "port_ser =pd.Series(df_sea['FOREIGN_PORT']).value_counts().head(10)\n",
    "plt.barh( port_ser.index ,port_ser.values)\n",
    "\n"
   ]
  },
  {
   "cell_type": "code",
   "execution_count": 201,
   "metadata": {},
   "outputs": [
    {
     "name": "stdout",
     "output_type": "stream",
     "text": [
      "30049099    5493\n",
      "7099990     5130\n",
      "87089900    4062\n",
      "42022190    3387\n",
      "42022220    3387\n",
      "84819090    3335\n",
      "61091000    2777\n",
      "62114290    2689\n",
      "62044290    2651\n",
      "88073000    2528\n",
      "62044390    2478\n",
      "85389000    2320\n",
      "71179090    2269\n",
      "43039090    2146\n",
      "62114300    1981\n",
      "8039010     1951\n",
      "62063090    1935\n",
      "29420090    1916\n",
      "39269099    1894\n",
      "85369090    1619\n",
      "Name: HS_CODE, dtype: int64\n"
     ]
    }
   ],
   "source": [
    "print(pd.Series(df_air['HS_CODE']).value_counts().head(20))\n",
    "# hs_ser =pd.Series(df_air['HS_CODE']).value_counts().head(2)\n",
    "# plt.barh( hs_ser.index ,hs_ser.values)"
   ]
  },
  {
   "cell_type": "code",
   "execution_count": 273,
   "metadata": {},
   "outputs": [
    {
     "name": "stdout",
     "output_type": "stream",
     "text": [
      "Counter({'NHAVA SHEVA SEA': 242722, 'DELHI AIR CARGO': 106119, 'BOMBAY AIR CARGO': 74190, 'CHENNAI SEA': 65659, 'MUNDRA SEA': 64599, 'TUTICORIN SEA': 47025, 'BANGALORE AIR CARGO': 42083, 'CHENNAI AIR CARGO': 32113, 'TUGHLAKABAD': 22385, 'RAXAUL': 22012, 'PETRAPOLE ROAD': 20778, 'JAIGAON': 20134, 'AHMEDABAD AIR CARGO': 18412, 'COCHIN SEA': 18351, 'SONAULI': 16749, 'PCCCC BANDRA-KURLA COMPLEX': 15474, 'KOLKATA SEA': 14949, 'TIRUVALLUR-ILP ICD': 13758, 'SABARMATI ICD': 12887, 'BANGALORE ICD': 12035, 'HAZIRA PORT/SURAT SEA': 11835, 'TUTICORIN ICD': 11157, 'KATTUPALLI VILLAGE,PONNERI TALUK,TIRUVALLUR SEA': 10920, 'TIRUPPUR - CHETTIPALAYAM CFS': 10685, 'PIYALA/BALLABHGARH ICD': 10550, 'DADRI-ACPL CFS': 10420, 'GARHI HARSARU - GURGAON ICD': 9686, 'KOLKATA AIR CARGO': 9608, 'JOGBANI': 9122, 'JAIPUR AIR CARGO': 8785, 'HYDERABAD AIR CARGO': 8737, 'PATLI ICD': 8690, 'ENNORE SEA': 8352, 'DIGHI(PUNE)': 6926, 'DADRI-CGML': 6429, 'COCHIN AIR CARGO': 6351, 'FARIDABAD': 5869, 'PUNE-TALEGOAN ICD': 5864, 'PAKWARA (MORADABAD)': 5858, 'PANCHI GUJARAN(SONEPAT ICD)': 5692, 'CHAMURCHI': 5458, 'GRFL SAHNEWAL LUDHIANA ICD': 5149, 'HYDERABAD': 5126, 'LUDHIANA': 5060, 'LCS NEPALGUNJ ROAD': 4663, 'NOIDA-DADRI (ICD)': 4663, 'THAR DRY PORT - JODHPUR ICD': 4644, 'DADRI - STTPL (CFS)': 4360, 'VIZAC SEA': 3966, 'TUMB ICD': 3944, 'NASHIK-JANORI ICD': 3765, 'BHAGAT KI KOTHI - JODHPUR ICD': 3308, 'THAR DRY PORT ICD/AHMEDABAD': 3226, 'BOMBAY SEA': 3092, 'KANAKPURA - JAIPUR ICD': 3012, 'BERHNI': 2959, 'CHAWAPAYAL ICD/SAMRALA': 2936, 'MAHADIPUR LCS': 2883, 'PANITANKI-NAXALBARI': 2815, 'TRIVENDRUN AIR CARGO': 2763, 'KILARAIPUR ICD': 2749, 'PALWAL ICD': 2489, 'PIPAVAV(VICTOR) PORT SEA': 2422, 'BARODA': 2255, 'GHOJADANGA LCS': 2248, 'KARIPUR(CALICUT) AIR CARGO': 1795, 'ICD TONDIARPET': 1731, 'JODHPUR': 1712, 'JATTIPUR ICD': 1663, 'BANBASA LCS': 1660, 'KLPPL PANKI': 1593, 'KANDLA SEA': 1561, 'KHATUWAS ICD': 1541, 'PSWC DHANDARI KALAN LUDHIANA': 1490, 'HILLI LCS': 1384, 'TIRUCHIRAPALLI': 1347, 'DARRANGA LCS': 1326, 'MIHAN ICD': 1200, 'MANDIDEEP': 1197, 'PITHAMPUR': 1148, 'APM ICD/BHAMBOLI KHED': 1139, 'CHANGRABANDHA': 1045, 'HOSUR ICD': 981, 'ANKLESHWAR': 941, 'SHB ICD/SURAT': 920, 'KERN ICD MADURAI': 892, 'PALI ICD REWARI': 882, 'INDORE-DHANNAD': 864, 'BHIMNAGAR': 845, 'BHITHAMORE(SURSNAD)': 819, 'PATPARGANJ': 791, 'COIMBATORE - IRUGUR ICD': 788, 'BORKHEDI ICD/NAGPUR': 742, 'KAMARDWISA LCS': 722, 'KRISHNAPATNAM SEA': 690, 'CMTL ICD/THIMMAPUR': 686, 'FULBARI': 632, 'BIRPARA': 563, 'GOA SEA': 563, 'GALGALIA': 550, 'CHAKERI KANPUR ICD': 518, 'KANPUR - JRY (ICD )': 513, 'KOTA': 513, 'COIMBATORE AIR CARGO': 456, 'ARAKKONAM - MELPAKKAM - CHENNAI ICD': 418, 'SACHANA ICD/ VIRAMGAM': 393, 'MODINAGAR ICD': 338, 'JAIPUR ICD': 298, 'SONABARSA': 293, 'KASHIPUR ICD': 286, 'BAIRGANIA': 269, 'LCS THOOTHIBARI': 249, 'LUCKNOW': 238, 'ICD DURGAPUR': 237, 'AGRA': 226, 'KARUR': 220, 'JAIGAD': 217, 'LCS PAIPRAUN / MADHUBANI': 204, 'TIKONIA': 203, 'SIDCUL ICD/PANTNAGAR': 163, 'RAJASANSI(AMRITSAR) AIR CARGO': 159, 'KUNAULI': 153, 'JAYANAGAR': 150, 'MAGDALLA SEA': 148, 'BARHI ICD': 133, 'DABOLIM AIR CARGO': 131, 'TUDIYALUR - COIMBATORE ICD': 124, 'REWARI': 115, 'PONDICHERRY ICD': 107, 'KOTTAYAM': 107, 'DHAMRA PORT SEA': 90, 'JALANDHAR': 75, 'DAPPAR ICD': 68, 'GANGAVARAM PORT SEA': 62, 'INDORE AIR CARGO': 61, 'MALANPUR ICD': 58, 'SIKKA': 45, 'NASIK': 36, 'JAJPUR ICD': 35, 'WWIL ICD/WARDHA': 30, 'LCS LAUKAHA/MADHUBANI': 24, 'JHULAGHAT LCS': 23, 'AMINGAON(GAUHATI)': 18, 'CONCOR ICD/JHARSUGUDA': 18, 'NAGPUR AIR CARGO': 16, 'KALINGANAGAR ICD': 9, 'BADDI ICD': 8, 'ICD LONI': 6, 'NASHIK-JANORI ACC AIR CARGO': 3, 'BEDI(INCLUDING ROZI-JAMNAGAR)': 3, 'DAHEJ SEA': 3, 'DHARCHULA LCS': 1})\n"
     ]
    }
   ],
   "source": [
    "exporter_count = Counter(df['INDIAN_PORT'])\n",
    "print(exporter_count)\n"
   ]
  },
  {
   "cell_type": "markdown",
   "metadata": {},
   "source": [
    "# Segmentation"
   ]
  },
  {
   "cell_type": "code",
   "execution_count": 205,
   "metadata": {},
   "outputs": [
    {
     "name": "stdout",
     "output_type": "stream",
     "text": [
      "                                           EXPORTER_NAME  HS_CODE\n",
      "30888                                KHEMCHAND HANDICRAF     9119\n",
      "41023                 NISSAN MOTOR INDIA PRIVATE LIMITED     8809\n",
      "35972                        MARUTI SUZUKI INDIA LIMITED     8532\n",
      "8304                                  BAJAJ AUTO LIMITED     8297\n",
      "54364                      SHAHI EXPORTS PRIVATE LIMITED     8130\n",
      "23813                              HERO MOTOCORP LIMITED     6557\n",
      "38052                                MOBIS INDIA LIMITED     4748\n",
      "18387                 FAIR EXPORTS INDIA PRIVATE LIMITED     4632\n",
      "29275                                 K P R MILL LIMITED     4504\n",
      "8527                       BALKRISHNA INDUSTRIES LIMITED     4400\n",
      "18918                FINESSE MARKET LINK PRIVATE LIMITED     3754\n",
      "53740                       SCM GARMENTS PRIVATE LIMITED     3504\n",
      "19318                         FORD INDIA PRIVATE LIMITED     3271\n",
      "49224                      RENAULT INDIA PRIVATE LIMITED     2981\n",
      "49147                        RELIANCE INDUSTRIES LIMITED     2706\n",
      "24529  HONDA MOTORCYCLE AND SCOOTER INDIA PRIVATE LIM...     2632\n",
      "6391                                      ARVIND LIMITED     2586\n",
      "16547    EASTMAN EXPORTS GLOBAL CLOTHING PRIVATE LIMITED     2478\n",
      "67777                             VIRAJ PROFILES LIMITED     2453\n",
      "50274                ROYAL CLASSIC MILLS PRIVATE LIMITED     2447\n"
     ]
    }
   ],
   "source": [
    "df_new = df.groupby(['EXPORTER_NAME']).HS_CODE.count().reset_index()\n",
    "print(df_new.sort_values('HS_CODE',ascending=False).head(20))\n",
    "# x = pd.DataFrame.from_dict(exporter_count, orient='index')\n",
    "# x.plot(kind='bar')\n",
    "# df_new=df.groupby(['INDIAN_PORT']).size().to_frame().sort_values([0], ascending = False).head(10).reset_index()\n",
    "# plt.hist(df_new, x='INDIAN_PORT', y = 'count')"
   ]
  },
  {
   "cell_type": "code",
   "execution_count": 186,
   "metadata": {},
   "outputs": [
    {
     "name": "stdout",
     "output_type": "stream",
     "text": [
      "                                           EXPORTER_NAME  UNIT\n",
      "30888                                KHEMCHAND HANDICRAF  9119\n",
      "41023                 NISSAN MOTOR INDIA PRIVATE LIMITED  8809\n",
      "35972                        MARUTI SUZUKI INDIA LIMITED  8532\n",
      "8304                                  BAJAJ AUTO LIMITED  8297\n",
      "54364                      SHAHI EXPORTS PRIVATE LIMITED  8130\n",
      "23813                              HERO MOTOCORP LIMITED  6557\n",
      "38052                                MOBIS INDIA LIMITED  4748\n",
      "18387                 FAIR EXPORTS INDIA PRIVATE LIMITED  4632\n",
      "29275                                 K P R MILL LIMITED  4504\n",
      "8527                       BALKRISHNA INDUSTRIES LIMITED  4400\n",
      "18918                FINESSE MARKET LINK PRIVATE LIMITED  3754\n",
      "53740                       SCM GARMENTS PRIVATE LIMITED  3504\n",
      "19318                         FORD INDIA PRIVATE LIMITED  3271\n",
      "49224                      RENAULT INDIA PRIVATE LIMITED  2981\n",
      "49147                        RELIANCE INDUSTRIES LIMITED  2706\n",
      "24529  HONDA MOTORCYCLE AND SCOOTER INDIA PRIVATE LIM...  2632\n",
      "6391                                      ARVIND LIMITED  2586\n",
      "16547    EASTMAN EXPORTS GLOBAL CLOTHING PRIVATE LIMITED  2478\n",
      "67777                             VIRAJ PROFILES LIMITED  2453\n",
      "50274                ROYAL CLASSIC MILLS PRIVATE LIMITED  2447\n"
     ]
    }
   ],
   "source": [
    "segment = df.groupby(['EXPORTER_NAME']).UNIT.count().reset_index()\n",
    "print (segment.sort_values('UNIT',ascending=False).head(20))"
   ]
  },
  {
   "cell_type": "code",
   "execution_count": 190,
   "metadata": {},
   "outputs": [
    {
     "name": "stdout",
     "output_type": "stream",
     "text": [
      "                                        EXPORTER_NAME  SUM_OF_FOB_INR\n",
      "49147                     RELIANCE INDUSTRIES LIMITED     55639777000\n",
      "26374                     INTERGLOBE AVIATION LIMITED     29575669000\n",
      "52590       SAMSUNG INDIA ELECTRONICS PRIVATE LIMITED     25809677000\n",
      "56036        SHREE RAMKRISHNA EXPORTS PRIVATE LIMITED     24415028000\n",
      "25576                  INDIAN OIL CORPORATION LIMITED     21022067000\n",
      "28843                               JSW STEEL LIMITED     20263108000\n",
      "9485                      BHARAT PETROLEUM CORPORATLT     17632122000\n",
      "24194                     HINDALCO INDUSTRIES LIMITED     13225167000\n",
      "8304                               BAJAJ AUTO LIMITED     12267594000\n",
      "65527        UNITED SEAMLESS TUBULAAR PRIVATE LIMITED     11920143000\n",
      "35972                     MARUTI SUZUKI INDIA LIMITED     11772673000\n",
      "68989  WISTRON INFOCOMM MANUFACTURING INDIA PRIVATE L     11732229000\n",
      "62638                              TATA STEEL LIMITED     11249116000\n",
      "68770             WESTERN CONCESSIONS PRIVATE LIMITED     11209393000\n",
      "21531                       GO AIRLINES INDIA LIMITED     10834303000\n",
      "20962            GIA INDIA LABORATORY PRIVATE LIMITED     10604656000\n",
      "28842               JSW STEEL COATED PRODUCTS LIMITED      9994153000\n",
      "24267                          HINDUSTAN ZINC LIMITED      9427513000\n",
      "23233            HARI KRISHNA EXPORTS PRIVATE LIMITED      9359747000\n",
      "30986                       KIA INDIA PRIVATE LIMITED      8152594000\n"
     ]
    }
   ],
   "source": [
    "segment = df.groupby(['EXPORTER_NAME']).SUM_OF_FOB_INR.sum().reset_index()\n",
    "print (segment.sort_values('SUM_OF_FOB_INR',ascending=False).head(20))"
   ]
  },
  {
   "cell_type": "markdown",
   "metadata": {},
   "source": [
    "# Prime customers"
   ]
  },
  {
   "cell_type": "code",
   "execution_count": 193,
   "metadata": {},
   "outputs": [
    {
     "name": "stdout",
     "output_type": "stream",
     "text": [
      "                                   EXPORTER_NAME  SUM_OF_FOB_INR\n",
      "49147                RELIANCE INDUSTRIES LIMITED     55639777000\n",
      "26374                INTERGLOBE AVIATION LIMITED     29575669000\n",
      "52590  SAMSUNG INDIA ELECTRONICS PRIVATE LIMITED     25809677000\n",
      "56036   SHREE RAMKRISHNA EXPORTS PRIVATE LIMITED     24415028000\n",
      "25576             INDIAN OIL CORPORATION LIMITED     21022067000\n",
      "...                                          ...             ...\n",
      "56282                                     SHREEM          364000\n",
      "2779                                  AJA EXPORT          364000\n",
      "6532                            ASHA METAL UDYOG          364000\n",
      "53662     SCENTOCHEM FRAGRANCES AND FLAVOURS INC          364000\n",
      "61144                               SUNSHINE TEA          364000\n",
      "\n",
      "[56037 rows x 2 columns]\n"
     ]
    }
   ],
   "source": [
    "eighty = 0.8*segment['SUM_OF_FOB_INR'].sum()\n",
    "temp=0\n",
    "count=0\n",
    "for i in segment['SUM_OF_FOB_INR']:\n",
    "    if temp<=eighty:\n",
    "        temp+=i\n",
    "        count+=1\n",
    "print (segment.sort_values('SUM_OF_FOB_INR',ascending=False).head(count))\n"
   ]
  },
  {
   "cell_type": "code",
   "execution_count": 203,
   "metadata": {},
   "outputs": [
    {
     "data": {
      "image/png": "[encoded data removed]",
      "text/plain": [
       "<Figure size 432x288 with 2 Axes>"
      ]
     },
     "metadata": {
      "needs_background": "light"
     },
     "output_type": "display_data"
    }
   ],
   "source": [
    "multi_query = \"\"\"SUM_OF_FOB_INR>=300000000 & \\\n",
    "                SUM_OF_QUANTITY<=300 \"\"\"\n",
    "df_filtered = df.query(multi_query)\n",
    "df_piv=df_filtered.pivot_table(index='FOREIGN_PORT', columns='SUM_OF_QUANTITY',values='SUM_OF_FOB_INR')\n",
    "ax = sns.heatmap(df_piv)"
   ]
  },
  {
   "cell_type": "code",
   "execution_count": null,
   "metadata": {},
   "outputs": [],
   "source": []
  }
 ],
 "metadata": {
  "interpreter": {
   "hash": "4e582c9b201e414fd7cc7b68311662e10bc7e5652e7f908cb4390d5a93f67b28"
  },
  "kernelspec": {
   "display_name": "Python 3.9.13 ('base')",
   "language": "python",
   "name": "python3"
  },
  "language_info": {
   "codemirror_mode": {
    "name": "ipython",
    "version": 3
   },
   "file_extension": ".py",
   "mimetype": "text/x-python",
   "name": "python",
   "nbconvert_exporter": "python",
   "pygments_lexer": "ipython3",
   "version": "3.9.13"
  },
  "orig_nbformat": 4
 },
 "nbformat": 4,
 "nbformat_minor": 2
}
